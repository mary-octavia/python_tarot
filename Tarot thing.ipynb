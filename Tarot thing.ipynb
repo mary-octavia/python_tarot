{
 "cells": [
  {
   "cell_type": "code",
   "execution_count": 2,
   "metadata": {
    "collapsed": true
   },
   "outputs": [],
   "source": [
    "%matplotlib  inline\n",
    "\n",
    "import os\n",
    "import re\n",
    "import roman\n",
    "import requests as r\n",
    "import random as rand\n",
    "from bs4 import BeautifulSoup \n",
    "import matplotlib.pyplot as plt\n",
    "from IPython.display import Image\n",
    "from IPython.core.display import HTML "
   ]
  },
  {
   "cell_type": "markdown",
   "metadata": {},
   "source": [
    "Get card link list \n",
    "-----------------"
   ]
  },
  {
   "cell_type": "code",
   "execution_count": 174,
   "metadata": {
    "collapsed": true
   },
   "outputs": [],
   "source": [
    "interp_url = \"https://www.trustedtarot.com\""
   ]
  },
  {
   "cell_type": "code",
   "execution_count": 175,
   "metadata": {
    "collapsed": true
   },
   "outputs": [],
   "source": [
    "resp = r.get(interp_url + \"/cards/\")\n",
    "soup = BeautifulSoup(resp.text, \"lxml\")\n",
    "links = soup.find_all(\"a\") # get all links on page"
   ]
  },
  {
   "cell_type": "code",
   "execution_count": 186,
   "metadata": {
    "collapsed": true
   },
   "outputs": [],
   "source": [
    "links = [x['href'] for x in links] # get all URLs\n",
    "links = [interp_url + x for x in links if re.search(r'/cards/[a-z-]*/', x) != None] # get all URLs about tarot cards"
   ]
  },
  {
   "cell_type": "code",
   "execution_count": 203,
   "metadata": {
    "collapsed": true
   },
   "outputs": [],
   "source": [
    "# links"
   ]
  },
  {
   "cell_type": "code",
   "execution_count": 187,
   "metadata": {
    "collapsed": true
   },
   "outputs": [],
   "source": [
    "nos = { 'ace': '01', 'two': '02', 'three': '03', 'four': '04', 'five': '05',\n",
    "       'six': '06', 'seven': '07', 'eight': '08', 'nine': '09', 'ten': '10',\n",
    "       'page': '11', 'knight': '12', 'queen': '13', 'king': '14'}  "
   ]
  },
  {
   "cell_type": "markdown",
   "metadata": {},
   "source": [
    "Get card\n",
    "-------------"
   ]
  },
  {
   "cell_type": "code",
   "execution_count": 220,
   "metadata": {},
   "outputs": [
    {
     "data": {
      "text/plain": [
       "'8'"
      ]
     },
     "execution_count": 220,
     "metadata": {},
     "output_type": "execute_result"
    }
   ],
   "source": [
    "card_no = str(int(rand.uniform(1, 78)))\n",
    "# card_no"
   ]
  },
  {
   "cell_type": "code",
   "execution_count": 221,
   "metadata": {
    "collapsed": true
   },
   "outputs": [],
   "source": [
    "# clear & shuffle\n",
    "resp = r.get(\"https://serennu.com/tarot/pick.php?nc=0&deck=\")"
   ]
  },
  {
   "cell_type": "code",
   "execution_count": 222,
   "metadata": {
    "collapsed": true
   },
   "outputs": [],
   "source": [
    "resp = r.get(\"https://serennu.com/tarot/pick.php?nc=\" + card_no)"
   ]
  },
  {
   "cell_type": "code",
   "execution_count": 223,
   "metadata": {
    "collapsed": true
   },
   "outputs": [],
   "source": [
    "soup = BeautifulSoup(resp.text, \"lxml\")"
   ]
  },
  {
   "cell_type": "code",
   "execution_count": 224,
   "metadata": {},
   "outputs": [
    {
     "data": {
      "text/plain": [
       "'Four of Pentacles'"
      ]
     },
     "execution_count": 224,
     "metadata": {},
     "output_type": "execute_result"
    }
   ],
   "source": [
    "t = soup.find_all(\"table\")\n",
    "ser_name = t[1].find_all(\"font\")[3].text\n",
    "ser_name"
   ]
  },
  {
   "cell_type": "code",
   "execution_count": 225,
   "metadata": {
    "collapsed": true
   },
   "outputs": [],
   "source": [
    "def get_tt_name(card_name):\n",
    "    '''transform serennu.com name in \n",
    "    trustedtarot.com name'''\n",
    "    card_number = card_name.split()[-1]\n",
    "    new_cn = card_name[:]\n",
    "    try:\n",
    "        roman.fromRoman(card_number) # found roman number\n",
    "        new_cn = \" \".join(card_name.split()[:-1]) # eliminate roman number\n",
    "    except:\n",
    "        print(\"ok\")\n",
    "\n",
    "    new_cn = \"-\".join([x.lower() for x in new_cn.split()])\n",
    "    return new_cn\n",
    "\n",
    "def get_img_name(card_name):\n",
    "    '''get name of local image file'''\n",
    "    filename = \"\" \n",
    "    if \"of\" in card_name.split() and \"Wheel\" not in card_name: # minor\n",
    "        no = card_name.split()[0].lower()\n",
    "        suit = card_name.split()[-1]\n",
    "        if suit == \"Pentacles\":\n",
    "            filename +=\"Pents\"\n",
    "        else:\n",
    "            filename += suit\n",
    "        filename += nos[no]\n",
    "    else: # major\n",
    "        filename += \"RWS_Tarot_\"\n",
    "        no = card_name.split()[-1]\n",
    "        try:\n",
    "            no = roman.fromRoman(no) # found roman number\n",
    "        except:\n",
    "            print(\"no roman numeral\")\n",
    "        if len(card_name.split()) > 2 and \"Wheel\" not in card_name:\n",
    "            new_cn = \" \".join(card_name.split()[1:-1]) # eliminate the and roman number\n",
    "        else:\n",
    "            new_cn = \" \".join(card_name.split()[:-1])\n",
    "        if int(no) < 10:\n",
    "            filename += \"0\"\n",
    "        filename += str(no) + \"_\" + \"_\".join(new_cn.split())\n",
    "    return filename + \".jpg\""
   ]
  },
  {
   "cell_type": "code",
   "execution_count": 226,
   "metadata": {},
   "outputs": [
    {
     "name": "stdout",
     "output_type": "stream",
     "text": [
      "ok\n"
     ]
    },
    {
     "data": {
      "text/plain": [
       "('four-of-pentacles', 'Pents04.jpg')"
      ]
     },
     "execution_count": 226,
     "metadata": {},
     "output_type": "execute_result"
    }
   ],
   "source": [
    "card_name = get_tt_name(ser_name)\n",
    "img_name = get_img_name(ser_name)\n",
    "card_name, img_name"
   ]
  },
  {
   "cell_type": "markdown",
   "metadata": {},
   "source": [
    "Get interpretation\n",
    "------------"
   ]
  },
  {
   "cell_type": "code",
   "execution_count": 227,
   "metadata": {
    "collapsed": true
   },
   "outputs": [],
   "source": [
    "# card_name = \"the-fool\"\n",
    "int_url = [x for x in links if card_name in x][0]"
   ]
  },
  {
   "cell_type": "code",
   "execution_count": 228,
   "metadata": {
    "collapsed": true
   },
   "outputs": [],
   "source": [
    "resp = r.get(int_url)"
   ]
  },
  {
   "cell_type": "code",
   "execution_count": 229,
   "metadata": {
    "collapsed": true
   },
   "outputs": [],
   "source": [
    "soup = BeautifulSoup(resp.text, \"lxml\")"
   ]
  },
  {
   "cell_type": "code",
   "execution_count": 230,
   "metadata": {
    "collapsed": true
   },
   "outputs": [],
   "source": [
    "idx_start = soup.text.find(\"Yes / No Key Interpretation\")\n",
    "idx_end = soup.text.find(\"Key Dates\")"
   ]
  },
  {
   "cell_type": "code",
   "execution_count": 231,
   "metadata": {},
   "outputs": [
    {
     "data": {
      "text/plain": [
       "['Yes / No Key Interpretation\\nThe Four of Pentacles stands for security, stability, and the presence of elemental balance in your life',\n",
       " ' It suggests being smart and frugal with what you have and remaining on a strict budget but with the security of only positive outcomes',\n",
       " ' Moving forward will likely require tenacity',\n",
       " ' Your answer is yes']"
      ]
     },
     "execution_count": 231,
     "metadata": {},
     "output_type": "execute_result"
    }
   ],
   "source": [
    "soup.text[idx_start:idx_end].split(\".\")[:-1]"
   ]
  },
  {
   "cell_type": "code",
   "execution_count": 232,
   "metadata": {},
   "outputs": [
    {
     "data": {
      "image/jpeg": "[encoded data removed]",
      "text/plain": [
       "<IPython.core.display.Image object>"
      ]
     },
     "execution_count": 232,
     "metadata": {
      "image/jpeg": {
       "width": 200
      }
     },
     "output_type": "execute_result"
    }
   ],
   "source": [
    "PATH = os.getcwd() + \"/cards/\"\n",
    "Image(filename = PATH + img_name, width=200)"
   ]
  },
  {
   "cell_type": "code",
   "execution_count": null,
   "metadata": {
    "collapsed": true
   },
   "outputs": [],
   "source": []
  },
  {
   "cell_type": "code",
   "execution_count": null,
   "metadata": {
    "collapsed": true
   },
   "outputs": [],
   "source": []
  }
 ],
 "metadata": {
  "kernelspec": {
   "display_name": "Python 3",
   "language": "python",
   "name": "python3"
  },
  "language_info": {
   "codemirror_mode": {
    "name": "ipython",
    "version": 3
   },
   "file_extension": ".py",
   "mimetype": "text/x-python",
   "name": "python",
   "nbconvert_exporter": "python",
   "pygments_lexer": "ipython3",
   "version": "3.6.1"
  }
 },
 "nbformat": 4,
 "nbformat_minor": 2
}
