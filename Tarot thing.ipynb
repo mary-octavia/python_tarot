{
 "cells": [
  {
   "cell_type": "code",
   "execution_count": 1,
   "metadata": {
    "collapsed": true
   },
   "outputs": [],
   "source": [
    "%matplotlib  inline\n",
    "\n",
    "import os\n",
    "import re\n",
    "import roman\n",
    "import requests as r\n",
    "import random as rand\n",
    "from bs4 import BeautifulSoup \n",
    "import matplotlib.pyplot as plt\n",
    "from IPython.display import Image\n",
    "from IPython.core.display import HTML "
   ]
  },
  {
   "cell_type": "markdown",
   "metadata": {},
   "source": [
    "Get card link list \n",
    "-----------------"
   ]
  },
  {
   "cell_type": "code",
   "execution_count": 2,
   "metadata": {
    "collapsed": true
   },
   "outputs": [],
   "source": [
    "interp_url = \"https://www.trustedtarot.com\""
   ]
  },
  {
   "cell_type": "code",
   "execution_count": 3,
   "metadata": {
    "collapsed": true
   },
   "outputs": [],
   "source": [
    "resp = r.get(interp_url + \"/cards/\")\n",
    "soup = BeautifulSoup(resp.text, \"lxml\")\n",
    "links = soup.find_all(\"a\") # get all links on page"
   ]
  },
  {
   "cell_type": "code",
   "execution_count": 4,
   "metadata": {
    "collapsed": true
   },
   "outputs": [],
   "source": [
    "links = [x['href'] for x in links] # get all URLs\n",
    "links = [interp_url + x for x in links if re.search(r'/cards/[a-z-]*/', x) != None] # get all URLs about tarot cards"
   ]
  },
  {
   "cell_type": "code",
   "execution_count": 5,
   "metadata": {
    "collapsed": true
   },
   "outputs": [],
   "source": [
    "# links"
   ]
  },
  {
   "cell_type": "code",
   "execution_count": 6,
   "metadata": {
    "collapsed": true
   },
   "outputs": [],
   "source": [
    "nos = { 'ace': '01', 'two': '02', 'three': '03', 'four': '04', 'five': '05',\n",
    "       'six': '06', 'seven': '07', 'eight': '08', 'nine': '09', 'ten': '10',\n",
    "       'page': '11', 'knight': '12', 'queen': '13', 'king': '14'}  "
   ]
  },
  {
   "cell_type": "markdown",
   "metadata": {},
   "source": [
    "Get card\n",
    "-------------"
   ]
  },
  {
   "cell_type": "code",
   "execution_count": 1039,
   "metadata": {},
   "outputs": [
    {
     "data": {
      "text/plain": [
       "'56'"
      ]
     },
     "execution_count": 1039,
     "metadata": {},
     "output_type": "execute_result"
    }
   ],
   "source": [
    "card_no = str(int(rand.uniform(1, 78)))\n",
    "card_no"
   ]
  },
  {
   "cell_type": "code",
   "execution_count": 1040,
   "metadata": {
    "collapsed": true
   },
   "outputs": [],
   "source": [
    "# clear & shuffle\n",
    "resp = r.get(\"https://serennu.com/tarot/pick.php?nc=0&deck=\")"
   ]
  },
  {
   "cell_type": "code",
   "execution_count": 1041,
   "metadata": {
    "collapsed": true
   },
   "outputs": [],
   "source": [
    "resp = r.get(\"https://serennu.com/tarot/pick.php?nc=\" + card_no)"
   ]
  },
  {
   "cell_type": "code",
   "execution_count": 1042,
   "metadata": {
    "collapsed": true
   },
   "outputs": [],
   "source": [
    "soup = BeautifulSoup(resp.text, \"lxml\")"
   ]
  },
  {
   "cell_type": "code",
   "execution_count": 1043,
   "metadata": {},
   "outputs": [
    {
     "data": {
      "text/plain": [
       "'Two of Wands'"
      ]
     },
     "execution_count": 1043,
     "metadata": {},
     "output_type": "execute_result"
    }
   ],
   "source": [
    "t = soup.find_all(\"table\")\n",
    "ser_name = t[1].find_all(\"font\")[3].text\n",
    "ser_name"
   ]
  },
  {
   "cell_type": "code",
   "execution_count": 1044,
   "metadata": {
    "collapsed": true
   },
   "outputs": [],
   "source": [
    "def get_tt_name(card_name):\n",
    "    '''transform serennu.com name in \n",
    "    trustedtarot.com name'''\n",
    "    card_number = card_name.split()[-1]\n",
    "    new_cn = card_name[:]\n",
    "    try:\n",
    "        roman.fromRoman(card_number) # found roman number\n",
    "        new_cn = \" \".join(card_name.split()[:-1]) # eliminate roman number\n",
    "    except:\n",
    "        print(\"ok\")\n",
    "\n",
    "    new_cn = \"-\".join([x.lower() for x in new_cn.split()])\n",
    "    return new_cn\n",
    "\n",
    "def get_img_name(card_name):\n",
    "    '''get name of local image file'''\n",
    "    filename = \"\" \n",
    "    if \"of\" in card_name.split() and \"Wheel\" not in card_name: # minor\n",
    "        no = card_name.split()[0].lower()\n",
    "        suit = card_name.split()[-1]\n",
    "        if suit == \"Pentacles\":\n",
    "            filename +=\"Pents\"\n",
    "        else:\n",
    "            filename += suit\n",
    "        filename += nos[no]\n",
    "    else: # major\n",
    "        filename += \"RWS_Tarot_\"\n",
    "        no = card_name.split()[-1]\n",
    "        try:\n",
    "            no = roman.fromRoman(no) # found roman number\n",
    "        except:\n",
    "            print(\"no roman numeral\")\n",
    "        if len(card_name.split()) > 2 and \"Wheel\" not in card_name:\n",
    "            new_cn = \" \".join(card_name.split()[1:-1]) # eliminate the and roman number\n",
    "        else:\n",
    "            new_cn = \" \".join(card_name.split()[:-1])\n",
    "        if int(no) < 10:\n",
    "            filename += \"0\"\n",
    "        filename += str(no) + \"_\" + \"_\".join(new_cn.split())\n",
    "    return filename + \".jpg\""
   ]
  },
  {
   "cell_type": "code",
   "execution_count": 1045,
   "metadata": {},
   "outputs": [
    {
     "name": "stdout",
     "output_type": "stream",
     "text": [
      "ok\n"
     ]
    },
    {
     "data": {
      "text/plain": [
       "('two-of-wands', 'Wands02.jpg')"
      ]
     },
     "execution_count": 1045,
     "metadata": {},
     "output_type": "execute_result"
    }
   ],
   "source": [
    "card_name = get_tt_name(ser_name)\n",
    "img_name = get_img_name(ser_name)\n",
    "card_name, img_name"
   ]
  },
  {
   "cell_type": "markdown",
   "metadata": {},
   "source": [
    "Get interpretation\n",
    "------------"
   ]
  },
  {
   "cell_type": "code",
   "execution_count": 1046,
   "metadata": {},
   "outputs": [],
   "source": [
    "# card_name = \"the-fool\"\n",
    "int_url = [x for x in links if card_name in x][0]"
   ]
  },
  {
   "cell_type": "code",
   "execution_count": 1047,
   "metadata": {
    "collapsed": true
   },
   "outputs": [],
   "source": [
    "resp = r.get(int_url)"
   ]
  },
  {
   "cell_type": "code",
   "execution_count": 1048,
   "metadata": {
    "collapsed": true
   },
   "outputs": [],
   "source": [
    "soup = BeautifulSoup(resp.text, \"lxml\")"
   ]
  },
  {
   "cell_type": "code",
   "execution_count": 1049,
   "metadata": {
    "collapsed": true
   },
   "outputs": [],
   "source": [
    "idx_start = soup.text.find(\"Yes / No Key Interpretation\")\n",
    "idx_end = soup.text.find(\"Key Dates\")"
   ]
  },
  {
   "cell_type": "code",
   "execution_count": 1053,
   "metadata": {},
   "outputs": [
    {
     "name": "stdout",
     "output_type": "stream",
     "text": [
      "\n",
      "\n",
      "\n",
      "\n",
      "\n",
      "Two of Wands Tarot Card Meaning\n",
      "\n",
      "\n",
      "\n",
      "\n",
      "\n",
      "\n",
      "\n",
      "(function(h,o,t,j,a,r){\n",
      "h.hj=h.hj||function(){(h.hj.q=h.hj.q||[]).push(arguments)};\n",
      "h._hjSettings={hjid:20377,hjsv:6};\n",
      "a=o.getElementsByTagName('head')[0];\n",
      "r=o.createElement('script');r.async=1;\n",
      "r.src=t+h._hjSettings.hjid+j+h._hjSettings.hjsv;\n",
      "a.appendChild(r);\n",
      "})(window,document,'https://static.hotjar.com/c/hotjar-','.js?sv=');\n",
      "\n",
      "\n",
      "\n",
      "\n",
      "(function(w,d,s,l,i){w[l]=w[l]||[];w[l].push({'gtm.start':\n",
      "new Date().getTime(),event:'gtm.js'});var f=d.getElementsByTagName(s)[0],\n",
      "j=d.createElement(s),dl=l!='dataLayer'?'&l='+l:'';j.async=true;j.src=\n",
      "'//www.googletagmanager.com/gtm.js?id='+i+dl;f.parentNode.insertBefore(j,f);\n",
      "})(window,document,'script','dataLayer','GTM-PSDCQR');\n",
      "\n",
      "\n",
      "\n",
      "\n",
      "\n",
      "\n",
      "\n",
      "\n",
      "Free Tarot Reading\n",
      "\n",
      "\n",
      "\n",
      "\n",
      "Menu \n",
      "\n",
      "Tarot Card Meanings\n",
      "Tarot Cards\n",
      "Love Tarot\n",
      "Daily Tarot Reading\n",
      "Tarot Horoscope\n",
      "Biorhythms\n",
      "I Ching\n",
      "Runes\n",
      "Spirit Guides\n",
      "Tarot App\n",
      "\n",
      "\n",
      "Live Tarot Reading\n",
      "\n",
      "\n",
      "Log in \n",
      "\n",
      "\n",
      "\n",
      "\n",
      "\n",
      "\n",
      "\n",
      "\n",
      "\n",
      "\n",
      "\n",
      "\n",
      "\n",
      "\n",
      "\t\t\t(adsbygoogle = window.adsbygoogle || []).push({});\n",
      "\t\t\t\n",
      "Two of Wands\n",
      "Achievement · Anxiety · Gain · Goals · Partnership\n",
      "\n",
      "\n",
      " Two of Wands Tarot card\n",
      "\n",
      "\n",
      "\n",
      "Two of Wands's Meaning\n",
      "The II of Wands suggests the formation of partnerships in your immediate future, or the success of already existing joint ventures. You will likely find yourself in a position to reap the rewards of these partnerships, in the form of financial gain or promotion. One the same count, the rewards indicated are those fairly due to you, so this is better news for those in equitable partnerships than those who seek to profit at the expense of others. The presence of this card may also point to underlying insecurity or worry on your part. These feelings may be justified or not, based on the rest of the spread.\n",
      "\n",
      "\n",
      "\n",
      "\n",
      "(adsbygoogle = window.adsbygoogle || []).push({});\n",
      "\n",
      "\n",
      "\n",
      "Past\n",
      "The research, development, and constant application of your skills has led you to progress in life. If you intend to arrive at your intended destination, continue to look ahead and plan.\n",
      "Present\n",
      "A generous offer for help is coming. With analysis and development of your ambitions, this influence will help you attain fulfillment.\n",
      "Future\n",
      "Reflection and self-awareness will lead you to success. Trust your intuition, but also be open to help from others.\n",
      "Yes / No Key Interpretation\n",
      "The Two of Wands shows being in control and experiencing gains in your life on one hand. On the other, it brings with it great anxiety and the possibility of losing the control that you once had. The dynamism projected through this card does not provide a clear answer. Maybe is what it suggests.\n",
      "Key Dates, Timing, and Astrology.\n",
      " Aries\n",
      "Key dates: March 21 to March 30\n",
      "\n",
      "\n",
      "\n",
      "\n",
      "(adsbygoogle = window.adsbygoogle || []).push({});\n",
      "\n",
      "\n",
      " Free Tarot Reading\n",
      "\n",
      "\n",
      "\n",
      "\n",
      "\n",
      "\n",
      "\n",
      " Trusted Tarot is rated\n",
      "\n",
      "4.9 out of 5 stars, based on 58,289 reviews!\n",
      "©2010 - 2019 All Rights Reserved. Trusted Tarot® is a registered trademark. All information provided by TrustedTarot.com is for entertainment purposes only. If you have serious problems, speak to a professional. This site uses cookies, and by using it you agree to the full Terms of Service. Please read them!\n",
      "\n",
      "\n",
      "\n",
      "\n",
      "\n"
     ]
    }
   ],
   "source": [
    "print(soup.text)"
   ]
  },
  {
   "cell_type": "code",
   "execution_count": 1051,
   "metadata": {},
   "outputs": [
    {
     "data": {
      "text/plain": [
       "['Yes / No Key Interpretation\\nThe Two of Wands shows being in control and experiencing gains in your life on one hand',\n",
       " ' On the other, it brings with it great anxiety and the possibility of losing the control that you once had',\n",
       " ' The dynamism projected through this card does not provide a clear answer',\n",
       " ' Maybe is what it suggests']"
      ]
     },
     "execution_count": 1051,
     "metadata": {},
     "output_type": "execute_result"
    }
   ],
   "source": [
    "soup.text[idx_start:idx_end].split(\".\")[:-1]"
   ]
  },
  {
   "cell_type": "code",
   "execution_count": 1052,
   "metadata": {},
   "outputs": [
    {
     "data": {
      "image/jpeg": "[encoded data removed]",
      "text/plain": [
       "<IPython.core.display.Image object>"
      ]
     },
     "execution_count": 1052,
     "metadata": {
      "image/jpeg": {
       "width": 200
      }
     },
     "output_type": "execute_result"
    }
   ],
   "source": [
    "PATH = os.getcwd() + \"/cards/\"\n",
    "Image(filename = PATH + img_name, width=200)"
   ]
  },
  {
   "cell_type": "code",
   "execution_count": null,
   "metadata": {
    "collapsed": true
   },
   "outputs": [],
   "source": []
  },
  {
   "cell_type": "code",
   "execution_count": null,
   "metadata": {
    "collapsed": true
   },
   "outputs": [],
   "source": []
  },
  {
   "cell_type": "code",
   "execution_count": null,
   "metadata": {
    "collapsed": true
   },
   "outputs": [],
   "source": []
  }
 ],
 "metadata": {
  "kernelspec": {
   "display_name": "Python 3",
   "language": "python",
   "name": "python3"
  },
  "language_info": {
   "codemirror_mode": {
    "name": "ipython",
    "version": 3
   },
   "file_extension": ".py",
   "mimetype": "text/x-python",
   "name": "python",
   "nbconvert_exporter": "python",
   "pygments_lexer": "ipython3",
   "version": "3.6.1"
  }
 },
 "nbformat": 4,
 "nbformat_minor": 2
}
